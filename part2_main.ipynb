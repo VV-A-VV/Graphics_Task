{
 "cells": [
  {
   "cell_type": "code",
   "execution_count": 1,
   "metadata": {},
   "outputs": [],
   "source": [
    "import sys\n",
    "import numpy as np\n",
    "from PNM import *\n",
    "# define pi for convenience\n",
    "pi = np.pi\n",
    "\n",
    "def CreateAndSavePFM(out_path):\n",
    "    width = 512\n",
    "    height = 512\n",
    "    numComponents = 3\n",
    "\n",
    "    img_out = np.empty(shape=(width, height, numComponents), dtype=np.float32)\n",
    "    \n",
    "    for y in range(height):\n",
    "        for x in range(width):\n",
    "            img_out[y,x,:] = 1.0\n",
    "\n",
    "    write_pfm(out_path, img_out)\n",
    "\n",
    "def LoadAndSavePPM(in_path, out_path):\n",
    "    img_in = read_ppm(in_path)\n",
    "    img_out = np.empty(shape=img_in.shape, dtype=img_in.dtype)\n",
    "    height,width,_ = img_in.shape # Retrieve height and width\n",
    "    for y in range(height):\n",
    "        for x in range(width):\n",
    "            img_out[y,x,:] = img_in[y,x,:] # Copy pixels\n",
    "\n",
    "    write_ppm(out_path, img_out)\n",
    "\n",
    "def LoadAndSavePFM(in_path, out_path):\n",
    "    img_in = read_pfm(in_path)\n",
    "    img_out = np.empty(shape=img_in.shape, dtype=img_in.dtype)\n",
    "    height,width,_ = img_in.shape # Retrieve height and width\n",
    "    for y in range(height):\n",
    "        for x in range(width):\n",
    "            img_out[y,x,:] = img_in[y,x,:] # Copy pixels\n",
    "\n",
    "    write_pfm(out_path, img_out)\n",
    "\n",
    "def LoadPPMAndSavePFM(in_path, out_path):\n",
    "    img_in = read_ppm(in_path)\n",
    "    img_out = np.empty(shape=img_in.shape, dtype=np.float32)\n",
    "    height,width,_ = img_in.shape\n",
    "    for y in range(height):\n",
    "        for x in range(width):\n",
    "            img_out[y,x,:] = img_in[y,x,:]/255.0\n",
    "\n",
    "    write_pfm(out_path, img_out)\n",
    "            \n",
    "def LoadPFMAndSavePPM(in_path, out_path):\n",
    "    img_in = read_pfm(in_path)\n",
    "    img_out = np.empty(shape=img_in.shape, dtype=np.float32)\n",
    "    height,width,_ = img_in.shape\n",
    "    for y in range(height):\n",
    "        for x in range(width):\n",
    "            img_in[y,x,:] = img_in[y,x,:] **(1/2.2)\n",
    "            # img_out[y,x,:] = img_out[y,x,:] * 255.0, if the value is greater than 255, it will be 255\n",
    "            img_out[y,x,:] = np.clip(img_in[y,x,:]*255.0, 0, 255)\n",
    "\n",
    "    write_ppm(out_path, img_out.astype(np.uint8))\n",
    "\n",
    "def create_sphere_image():\n",
    "    width = 511\n",
    "    height = 511\n",
    "    numComponents = 3\n",
    "\n",
    "    img_out = np.empty(shape=(width, height, numComponents), dtype=np.float32)\n",
    "    # the sphere has diameter 511, the center point is the center of the image, the other part outside the sphere is black\n",
    "    for y in range(height):\n",
    "        for x in range(width):\n",
    "            if (x - 255.5) ** 2 + (y - 255.5) ** 2 <= 255.5 ** 2:\n",
    "                img_out[y, x, :] = 1.0\n",
    "            else:\n",
    "                img_out[y, x, :] = 0.0\n",
    "\n",
    "    return img_out\n"
   ]
  },
  {
   "cell_type": "code",
   "execution_count": 2,
   "metadata": {},
   "outputs": [],
   "source": [
    "graph = read_pfm('GraceCathedral/grace_latlong.pfm')"
   ]
  },
  {
   "cell_type": "code",
   "execution_count": null,
   "metadata": {},
   "outputs": [],
   "source": []
  },
  {
   "cell_type": "code",
   "execution_count": 3,
   "metadata": {},
   "outputs": [],
   "source": [
    "def median_cuts(median_cut, division = 4):\n",
    "    #median cut\n",
    "    \n",
    "    parts = []\n",
    "    for i in range(division-1):\n",
    "\n",
    "        if parts == []:\n",
    "            total = np.sum(median_cut)/3\n",
    "\n",
    "            acc = 0\n",
    "            y = median_cut.shape[0]\n",
    "            x = median_cut.shape[1]\n",
    "            if y > x:\n",
    "                for y_1 in range(y):\n",
    "                    acc += np.sum(median_cut[y_1, :])/3\n",
    "                    if acc >= total / 2:\n",
    "                        # divide the image into two parts\n",
    "                        parts.append([median_cut[:y_1, :],(0, 0),(x-1, y_1-1)])\n",
    "                        parts.append([median_cut[y_1:, :],(0, y_1),(x-1, y-1)])\n",
    "                        break\n",
    "            else:\n",
    "                for x_1 in range(x):\n",
    "                    acc += np.sum(median_cut[:, x_1])/3\n",
    "                    if acc >= total / 2:\n",
    "                        # divide the image into two parts\n",
    "                        parts.append([median_cut[:, :x_1],(0, 0),(x_1-1, y-1)])\n",
    "                        parts.append([median_cut[:, x_1:],(x_1, 0),(x-1, y-1)])\n",
    "                        break\n",
    "\n",
    "        else:\n",
    "            temp = parts.pop(0)\n",
    "            total = np.sum(temp[0])/3\n",
    "            acc = 0\n",
    "            y = temp[0].shape[0]\n",
    "            x = temp[0].shape[1]\n",
    "            if y > x:\n",
    "                for y_1 in range(y):\n",
    "                    acc += np.sum(temp[0][y_1, :])/3\n",
    "                    if acc >= total / 2:\n",
    "                        # divide the image into two parts\n",
    "                        parts.append([temp[0][:y_1, :],(temp[1][0], temp[1][1]),(temp[2][0], temp[1][1] + y_1 - 1)])\n",
    "                        parts.append([temp[0][y_1:, :],(temp[1][0], temp[1][1] + y_1),(temp[2][0], temp[2][1])])\n",
    "                        break\n",
    "            else:\n",
    "                for x_1 in range(x):\n",
    "                    acc += np.sum(temp[0][:, x_1])/3\n",
    "                    if acc >= total / 2:\n",
    "                        # divide the image into two parts\n",
    "                        parts.append([temp[0][:, :x_1],(temp[1][0], temp[1][1]),(temp[1][0] + x_1 - 1, temp[2][1])])\n",
    "                        parts.append([temp[0][:, x_1:],(temp[1][0] + x_1, temp[1][1]),(temp[2][0], temp[2][1])])\n",
    "                        break\n",
    "    partitions = [[x[1],x[2]] for x in parts]\n",
    "    \n",
    "    return partitions\n",
    "\n",
    "\n",
    "                    \n",
    "                    "
   ]
  },
  {
   "cell_type": "code",
   "execution_count": 4,
   "metadata": {},
   "outputs": [],
   "source": [
    "def generate_median_cut_image(graph):\n",
    "    median_cut = np.zeros(graph.shape)\n",
    "    for y in range(graph.shape[0]):\n",
    "        for x in range(graph.shape[1]):\n",
    "            #intensity = np.sum(graph[y, x, :]) / 3\n",
    "            median_cut[y, x, :] = np.sum(graph[y, x, :]) / 3 * np.sin(pi * y / graph.shape[0])\n",
    "    return median_cut"
   ]
  },
  {
   "cell_type": "code",
   "execution_count": 5,
   "metadata": {},
   "outputs": [],
   "source": [
    "def draw_median_cut(graph, division = 4):\n",
    "    median_cut = generate_median_cut_image(graph)\n",
    "    partitions = median_cuts(median_cut, division)\n",
    "    # according to the partitions divide the image with different colors\n",
    "    for i in range(len(partitions)):\n",
    "        # draw the boundary of the partition\n",
    "        # graph[partitions[i][0][1], partitions[i][0][0]:partitions[i][1][0], :] = np.array([0,0,1])\n",
    "        # neighbor points of the boundary are also colored, 5*5\n",
    "        graph[min(graph.shape[0]-1,max(partitions[i][1][1]-2,0)):min(graph.shape[0],max(partitions[i][1][1]+3,0)),partitions[i][0][0]:partitions[i][1][0], :] = np.array([0,0,1])\n",
    "        # graph[partitions[i][1][1], partitions[i][0][0]:partitions[i][1][0], :] = np.array([0,0,1])\n",
    "        graph[min(graph.shape[0]-1,max(partitions[i][0][1]-2,0)):min(graph.shape[0],max(partitions[i][0][1]+3,0)), partitions[i][0][0]:partitions[i][1][0], :] = np.array([0,0,1])\n",
    "        # graph[partitions[i][0][1]:partitions[i][1][1], partitions[i][0][0], :] = np.array([0,0,1])\n",
    "        graph[partitions[i][0][1]:partitions[i][1][1], min(graph.shape[1]-1,max(partitions[i][1][0]-2,0)):min(graph.shape[1],max(partitions[i][1][0]+3,0)), :] = np.array([0,0,1])\n",
    "        # graph[partitions[i][0][1]:partitions[i][1][1], partitions[i][1][0], :] = np.array([0,0,1])\n",
    "        graph[partitions[i][0][1]:partitions[i][1][1], min(graph.shape[1]-1,max(partitions[i][0][0]-2,0)):min(graph.shape[1],max(partitions[i][0][0]+3,0)), :] = np.array([0,0,1])\n",
    "        # change the color of the central point of the partition\n",
    "        # graph[int((partitions[i][0][1] + partitions[i][1][1])/2), int((partitions[i][0][0] + partitions[i][1][0])/2), :] = np.array([1,1,1])\n",
    "        graph[min(graph.shape[0]-1,max(int((partitions[i][0][1] + partitions[i][1][1])/2)-2,0)):min(graph.shape[0],max(int((partitions[i][0][1] + partitions[i][1][1])/2)+3,0)), min(graph.shape[1]-1,max( int((partitions[i][0][0] + partitions[i][1][0])/2)-2,0)):min(graph.shape[1],max( int((partitions[i][0][0] + partitions[i][1][0])/2)+3,0)), :] = np.array([1,1,1])\n",
    "    \n",
    "    return graph"
   ]
  },
  {
   "cell_type": "code",
   "execution_count": 6,
   "metadata": {},
   "outputs": [],
   "source": [
    "# graph = draw_median_cut(graph, 64)\n",
    "\n",
    "# write_pfm('divided.pfm', graph)\n"
   ]
  },
  {
   "cell_type": "code",
   "execution_count": 7,
   "metadata": {},
   "outputs": [],
   "source": [
    "partition_number = [2, 4, 16, 64 ]\n",
    "for i in partition_number:\n",
    "    graph = read_pfm('GraceCathedral/grace_latlong.pfm')\n",
    "    t = draw_median_cut(graph, i)\n",
    "    write_pfm('divided' + str(i) + '.pfm', t)\n",
    "    LoadPFMAndSavePPM('divided' + str(i) + '.pfm', 'divided' + str(i) + '.ppm')"
   ]
  },
  {
   "cell_type": "code",
   "execution_count": 8,
   "metadata": {},
   "outputs": [],
   "source": [
    "graph = read_pfm('GraceCathedral/grace_latlong.pfm')\n",
    "black_graph = np.zeros(graph.shape, dtype = np.float32)\n",
    "partitions = median_cuts(generate_median_cut_image(graph), 64)\n",
    "for i in partitions:\n",
    "    # calculate the average RGB color of the partition\n",
    "    color = np.sum(graph[i[0][1]:i[1][1], i[0][0]:i[1][0], :], axis = (0,1)) / (i[1][1] - i[0][1]) / (i[1][0] - i[0][0])\n",
    "    # change the color of the neighbor points of the central point\n",
    "    black_graph[min(graph.shape[0]-1,max(int((i[0][1] + i[1][1])/2)-2,0)):min(graph.shape[0],max(int((i[0][1] + i[1][1])/2)+3,0)), min(graph.shape[1]-1,max( int((i[0][0] + i[1][0])/2)-2,0)):min(graph.shape[1],max( int((i[0][0] + i[1][0])/2)+3,0)), :] = color\n",
    "write_pfm('divided.pfm', black_graph)\n",
    "LoadPFMAndSavePPM('divided.pfm', 'divided.ppm')"
   ]
  },
  {
   "cell_type": "code",
   "execution_count": 9,
   "metadata": {},
   "outputs": [
    {
     "name": "stdout",
     "output_type": "stream",
     "text": [
      "(512, 1024, 3)\n"
     ]
    }
   ],
   "source": []
  },
  {
   "cell_type": "code",
   "execution_count": 14,
   "metadata": {},
   "outputs": [],
   "source": [
    "# load the pbrt sphere in the form of pfm and save as ppm\n",
    "samplers = [8,16,32,64]\n",
    "for i in samplers:\n",
    "    LoadPFMAndSavePPM('./pbrt/simple_sphere_' + str(i) + '.pfm', './pbrt/simple_sphere_' + str(i) + '.ppm')\n"
   ]
  }
 ],
 "metadata": {
  "kernelspec": {
   "display_name": "base",
   "language": "python",
   "name": "python3"
  },
  "language_info": {
   "codemirror_mode": {
    "name": "ipython",
    "version": 3
   },
   "file_extension": ".py",
   "mimetype": "text/x-python",
   "name": "python",
   "nbconvert_exporter": "python",
   "pygments_lexer": "ipython3",
   "version": "3.9.7"
  },
  "orig_nbformat": 4,
  "vscode": {
   "interpreter": {
    "hash": "cb6034752f0a6076103fc9a54ba8033432e5651fd913552167f326798b9fd80c"
   }
  }
 },
 "nbformat": 4,
 "nbformat_minor": 2
}
